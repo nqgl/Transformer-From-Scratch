{
 "cells": [
  {
   "cell_type": "code",
   "execution_count": 1,
   "metadata": {},
   "outputs": [],
   "source": [
    "from linear_regression import LogisticRegression\n",
    "from mlp import MLP\n",
    "import torch\n",
    "import torchvision\n",
    "import torchvision.transforms as transforms\n"
   ]
  },
  {
   "cell_type": "code",
   "execution_count": 2,
   "metadata": {},
   "outputs": [],
   "source": [
    "\n",
    "\n",
    "transform = transforms.Compose(\n",
    "    [transforms.ToTensor(),\n",
    "     transforms.Normalize((0.5,), (0.5,))])\n",
    "trainset = torchvision.datasets.MNIST('PATH_TO_STORE_TRAINSET', download=True, train=True, transform=transform)\n",
    "valset = torchvision.datasets.MNIST('PATH_TO_STORE_TESTSET', download=True, train=False, transform=transform)\n",
    "trainloader = torch.utils.data.DataLoader(trainset, batch_size=64, shuffle=True)\n",
    "valloader = torch.utils.data.DataLoader(valset, batch_size=64, shuffle=True)\n"
   ]
  },
  {
   "cell_type": "code",
   "execution_count": 3,
   "metadata": {},
   "outputs": [],
   "source": [
    "#%matplotlib inline\n",
    "\n",
    "import torch\n",
    "import torchvision\n",
    "import torchvision.transforms as transforms\n",
    "\n",
    "\n",
    "trainset = torchvision.datasets.MNIST(\"PATH_TO_STORE_TRAINSET\", train=True, download=True, transform=transform)\n",
    "trainloader = torch.utils.data.DataLoader(trainset, batch_size=4, shuffle=True, num_workers=2)\n"
   ]
  },
  {
   "cell_type": "code",
   "execution_count": 4,
   "metadata": {},
   "outputs": [
    {
     "name": "stdout",
     "output_type": "stream",
     "text": [
      "    1     5     4     4\n"
     ]
    },
    {
     "data": {
      "image/png": "[encoded data removed]",
      "text/plain": [
       "<Figure size 432x288 with 1 Axes>"
      ]
     },
     "metadata": {
      "needs_background": "light"
     },
     "output_type": "display_data"
    }
   ],
   "source": [
    "import matplotlib.pyplot as plt\n",
    "import numpy as np\n",
    "\n",
    "classes = [str(i) for i in range(10)]\n",
    "\n",
    "def imshow(img):\n",
    "    img = img / 2 + 0.5     # unnormalize\n",
    "    npimg = img.numpy()\n",
    "    plt.imshow(np.transpose(npimg, (1, 2, 0)))\n",
    "\n",
    "\n",
    "# get some random training images\n",
    "dataiter = iter(trainloader)\n",
    "images, labels = next(dataiter)\n",
    "\n",
    "# show images\n",
    "imshow(torchvision.utils.make_grid(images))\n",
    "# print labels\n",
    "print(' '.join('%5s' % classes[labels[j]] for j in range(4)))\n"
   ]
  },
  {
   "cell_type": "code",
   "execution_count": 5,
   "metadata": {},
   "outputs": [
    {
     "name": "stdout",
     "output_type": "stream",
     "text": [
      "torch.Size([4, 1, 28, 28])\n",
      "torch.Size([4])\n",
      "tensor([9, 0, 4, 5])\n"
     ]
    }
   ],
   "source": [
    "dataiter = iter(trainloader)\n",
    "images, labels = next(dataiter)\n",
    "\n",
    "print(images.shape)\n",
    "print(labels.shape)\n",
    "print(labels)"
   ]
  },
  {
   "cell_type": "code",
   "execution_count": 6,
   "metadata": {},
   "outputs": [
    {
     "name": "stdout",
     "output_type": "stream",
     "text": [
      "tensor([[0.3986, 0.6114, 0.5761, 0.3976, 0.3720, 0.5940, 0.6397, 0.4970, 0.4708,\n",
      "         0.5029],\n",
      "        [0.5272, 0.4051, 0.4924, 0.4249, 0.5458, 0.6381, 0.6465, 0.3315, 0.5728,\n",
      "         0.5270],\n",
      "        [0.5301, 0.4446, 0.4611, 0.4364, 0.5552, 0.6272, 0.5486, 0.4098, 0.3462,\n",
      "         0.4597],\n",
      "        [0.4753, 0.4158, 0.4612, 0.6202, 0.6769, 0.6139, 0.4623, 0.5366, 0.5379,\n",
      "         0.5163]], grad_fn=<SigmoidBackward0>)\n"
     ]
    }
   ],
   "source": [
    "model = LogisticRegression(28*28, 10)\n",
    "images, labels = next(iter(trainloader))\n",
    "\n",
    "#flatten\n",
    "images = images.view(images.shape[0], -1)\n",
    "\n",
    "print(model(images))"
   ]
  },
  {
   "cell_type": "code",
   "execution_count": 7,
   "metadata": {},
   "outputs": [
    {
     "data": {
      "text/plain": [
       "False"
      ]
     },
     "execution_count": 7,
     "metadata": {},
     "output_type": "execute_result"
    }
   ],
   "source": [
    "torch.cuda.device(1) == torch.cuda.device(1)\n"
   ]
  },
  {
   "cell_type": "code",
   "execution_count": 11,
   "metadata": {},
   "outputs": [
    {
     "name": "stdout",
     "output_type": "stream",
     "text": [
      "Epoch 0 - Training loss: 1.5996966177622478\n",
      "Epoch 1 - Training loss: 1.5708154283682505\n",
      "Epoch 2 - Training loss: 1.56429823290507\n",
      "Epoch 3 - Training loss: 1.5607922935167948\n",
      "Epoch 4 - Training loss: 1.5576616052230199\n"
     ]
    }
   ],
   "source": [
    "model = LogisticRegression(28*28, 10)\n",
    "def loss_fn(outputs, labels):\n",
    "    return torch.nn.functional.cross_entropy(outputs, labels)\n",
    "cuda0 = torch.device('cuda')\n",
    "cpu = torch.device('cpu')\n",
    "model.to(cuda0)\n",
    "def naive_loss_fn(outputs, labels):\n",
    "    # convert labels to one-hot vectors\n",
    "    one_hot = torch.zeros(len(labels), 10)\n",
    "    for i in range(len(labels)):\n",
    "        one_hot[i][labels[i]] = 1\n",
    "    l = one_hot - outputs\n",
    "    return torch.sum(l ** 2)\n",
    "optimizer = torch.optim.SGD(model.parameters(), lr=0.01, momentum=0.9)\n",
    "\n",
    "epochs = 5\n",
    "for epoch in range(epochs):\n",
    "    running_loss = 0.0\n",
    "    for images, labels in trainloader:\n",
    "        #flatten images\n",
    "        images = images.view(images.shape[0], -1)\n",
    "        images = images.to(cuda0)\n",
    "        labels = labels.to(cuda0)\n",
    "        #clear gradients\n",
    "        optimizer.zero_grad()\n",
    "\n",
    "        #forward pass\n",
    "        pred = model(images)\n",
    "\n",
    "        #calculate loss\n",
    "        loss = loss_fn(pred, labels)\n",
    "\n",
    "        #backward pass\n",
    "        loss.backward()\n",
    "\n",
    "        #update parameters\n",
    "        optimizer.step()\n",
    "\n",
    "        running_loss += loss.item()\n",
    "    print(\"Epoch {} - Training loss: {}\".format(epoch, running_loss/len(trainloader)))\n",
    "\n",
    "    \n"
   ]
  },
  {
   "cell_type": "code",
   "execution_count": null,
   "metadata": {},
   "outputs": [],
   "source": [
    "dataiter = iter(trainloader)\n",
    "images, labels = next(dataiter)\n",
    "\n",
    "# show images\n",
    "imshow(torchvision.utils.make_grid(images))\n",
    "# print pred\n",
    "print('GroundTruth: ', ' '.join('%5s' % classes[labels[j]] for j in range(4)))\n",
    "images = images.view(images.shape[0], -1)\n",
    "pred = model(images)\n",
    "ap = torch.argmax(pred, dim=1)\n",
    "print(pred)\n",
    "print(ap)"
   ]
  }
 ],
 "metadata": {
  "kernelspec": {
   "display_name": "Python 3",
   "language": "python",
   "name": "python3"
  },
  "language_info": {
   "codemirror_mode": {
    "name": "ipython",
    "version": 3
   },
   "file_extension": ".py",
   "mimetype": "text/x-python",
   "name": "python",
   "nbconvert_exporter": "python",
   "pygments_lexer": "ipython3",
   "version": "3.10.12"
  },
  "orig_nbformat": 4
 },
 "nbformat": 4,
 "nbformat_minor": 2
}
